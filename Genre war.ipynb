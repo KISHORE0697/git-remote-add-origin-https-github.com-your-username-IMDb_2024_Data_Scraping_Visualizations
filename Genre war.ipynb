{
 "cells": [
  {
   "cell_type": "code",
   "execution_count": 1,
   "id": "34aa7c76-8ff0-4bb9-8798-8a07f512d3da",
   "metadata": {},
   "outputs": [],
   "source": [
    "import selenium\n",
    "import pandas as pd \n",
    "from selenium import webdriver\n",
    "from selenium.webdriver.common.by import By\n",
    "from selenium.common.exceptions import NoSuchElementException\n",
    "import time"
   ]
  },
  {
   "cell_type": "code",
   "execution_count": 4,
   "id": "eefe3eb1-eb56-476a-9ea4-aab71f840c53",
   "metadata": {},
   "outputs": [
    {
     "name": "stdout",
     "output_type": "stream",
     "text": [
      "All movies downloaded\n"
     ]
    }
   ],
   "source": [
    "driver = webdriver.Chrome()\n",
    "driver.get(\"https://www.imdb.com/search/title/?title_type=feature&release_date=2024-01-01,2024-12-31&genres=war\")\n",
    "time.sleep(3)\n",
    "\n",
    "while True:\n",
    "    try:\n",
    "        load_more= driver.find_element(By.CLASS_NAME, \"ipc-see-more__button\")\n",
    "        driver.execute_script(\"arguments[0].click();\",load_more)\n",
    "        time.sleep(3)\n",
    "    except NoSuchElementException:\n",
    "        print (\"All movies downloaded\")\n",
    "        break"
   ]
  },
  {
   "cell_type": "code",
   "execution_count": 11,
   "id": "94b8b0aa-bcb4-4d33-b19a-0da4a7b2d045",
   "metadata": {},
   "outputs": [
    {
     "name": "stdout",
     "output_type": "stream",
     "text": [
      "Found 139 movie_cards\n"
     ]
    }
   ],
   "source": [
    "movie_cards = driver.find_elements(By.CLASS_NAME, \"ipc-metadata-list-summary-item\")\n",
    "print (\"Found\", len(movie_cards), \"movie_cards\")"
   ]
  },
  {
   "cell_type": "code",
   "execution_count": 22,
   "id": "8b5afb44-a362-47b3-b33e-145cc7c32c43",
   "metadata": {},
   "outputs": [],
   "source": [
    "movies = []\n",
    "\n",
    "for card in movie_cards:\n",
    "    try:\n",
    "        title = card.find_element(By.TAG_NAME, \"h3\").text\n",
    "    except:\n",
    "        title = \"N/A\"\n",
    "\n",
    "    try:\n",
    "        genre_tags = card.find_elements(By.CLASS_NAME,\"ipc-chip__text\")\n",
    "        genre = [g.text for g in genre_tags] if genere_tags else [\"N/A\"]\n",
    "       \n",
    "    except:\n",
    "        genre = \"N/A\"\n",
    "\n",
    "    try:\n",
    "        rating = card.find_element(By.CLASS_NAME, \"ipc-rating-star--rating\").text\n",
    "    except:\n",
    "        rating = \"N/A\"\n",
    "\n",
    "    try:\n",
    "        metadata = card.find_elements(By.CLASS_NAME, \"dli-title-metadata-item\")\n",
    "        duration = metadata[1].text if len(metadata) > 1 else \"N/A\"\n",
    "    except:\n",
    "        duration = \"N/A\"\n",
    "\n",
    "    try:\n",
    "        votes = card.find_element(By.CLASS_NAME, \"ipc-rating-star--voteCount\").text\n",
    "    except:\n",
    "        votes = \"N/A\"\n",
    "\n",
    "    movies.append({\n",
    "        \"Title\": title,\n",
    "        \"Genre\": genre,\n",
    "        \"Rating\": rating,\n",
    "        \"Duration\": duration,\n",
    "        \"Votes\": votes\n",
    "    })\n",
    "        "
   ]
  },
  {
   "cell_type": "code",
   "execution_count": 23,
   "id": "0f10442e-caef-49a9-a757-45ccfeef170c",
   "metadata": {},
   "outputs": [
    {
     "data": {
      "text/html": [
       "<div>\n",
       "<style scoped>\n",
       "    .dataframe tbody tr th:only-of-type {\n",
       "        vertical-align: middle;\n",
       "    }\n",
       "\n",
       "    .dataframe tbody tr th {\n",
       "        vertical-align: top;\n",
       "    }\n",
       "\n",
       "    .dataframe thead th {\n",
       "        text-align: right;\n",
       "    }\n",
       "</style>\n",
       "<table border=\"1\" class=\"dataframe\">\n",
       "  <thead>\n",
       "    <tr style=\"text-align: right;\">\n",
       "      <th></th>\n",
       "      <th>Title</th>\n",
       "      <th>Genre</th>\n",
       "      <th>Rating</th>\n",
       "      <th>Duration</th>\n",
       "      <th>Votes</th>\n",
       "    </tr>\n",
       "  </thead>\n",
       "  <tbody>\n",
       "    <tr>\n",
       "      <th>0</th>\n",
       "      <td>1. The Ministry of Ungentlemanly Warfare</td>\n",
       "      <td>N/A</td>\n",
       "      <td>6.8</td>\n",
       "      <td>2h 2m</td>\n",
       "      <td>(140K)</td>\n",
       "    </tr>\n",
       "    <tr>\n",
       "      <th>1</th>\n",
       "      <td>2. William Tell</td>\n",
       "      <td>N/A</td>\n",
       "      <td>5.7</td>\n",
       "      <td>2h 14m</td>\n",
       "      <td>(3.3K)</td>\n",
       "    </tr>\n",
       "    <tr>\n",
       "      <th>2</th>\n",
       "      <td>3. Dirty Angels</td>\n",
       "      <td>N/A</td>\n",
       "      <td>4.4</td>\n",
       "      <td>1h 44m</td>\n",
       "      <td>(4.2K)</td>\n",
       "    </tr>\n",
       "    <tr>\n",
       "      <th>3</th>\n",
       "      <td>4. The Six Triple Eight</td>\n",
       "      <td>N/A</td>\n",
       "      <td>6.7</td>\n",
       "      <td>2h 7m</td>\n",
       "      <td>(28K)</td>\n",
       "    </tr>\n",
       "    <tr>\n",
       "      <th>4</th>\n",
       "      <td>5. Nr. 24</td>\n",
       "      <td>N/A</td>\n",
       "      <td>7.5</td>\n",
       "      <td>1h 51m</td>\n",
       "      <td>(16K)</td>\n",
       "    </tr>\n",
       "  </tbody>\n",
       "</table>\n",
       "</div>"
      ],
      "text/plain": [
       "                                      Title Genre Rating Duration    Votes\n",
       "0  1. The Ministry of Ungentlemanly Warfare   N/A    6.8    2h 2m   (140K)\n",
       "1                           2. William Tell   N/A    5.7   2h 14m   (3.3K)\n",
       "2                           3. Dirty Angels   N/A    4.4   1h 44m   (4.2K)\n",
       "3                   4. The Six Triple Eight   N/A    6.7    2h 7m    (28K)\n",
       "4                                 5. Nr. 24   N/A    7.5   1h 51m    (16K)"
      ]
     },
     "execution_count": 23,
     "metadata": {},
     "output_type": "execute_result"
    }
   ],
   "source": [
    "df = pd.DataFrame(movies)\n",
    "df.head()"
   ]
  },
  {
   "cell_type": "code",
   "execution_count": 25,
   "id": "6d621d6b-5944-4af9-90dc-5f9b90e75246",
   "metadata": {},
   "outputs": [
    {
     "name": "stdout",
     "output_type": "stream",
     "text": [
      "CSV file saved successfully.\n"
     ]
    }
   ],
   "source": [
    "df_war = pd.DataFrame(movies)\n",
    "df_war .to_csv(\"IMDb_WAR_2024.csv\",index=0)   \n",
    "print(\"CSV file saved successfully.\")"
   ]
  },
  {
   "cell_type": "code",
   "execution_count": null,
   "id": "bb4babdd-e11a-41e1-a03f-4d1498d62954",
   "metadata": {},
   "outputs": [],
   "source": []
  }
 ],
 "metadata": {
  "kernelspec": {
   "display_name": "Python 3 (ipykernel)",
   "language": "python",
   "name": "python3"
  },
  "language_info": {
   "codemirror_mode": {
    "name": "ipython",
    "version": 3
   },
   "file_extension": ".py",
   "mimetype": "text/x-python",
   "name": "python",
   "nbconvert_exporter": "python",
   "pygments_lexer": "ipython3",
   "version": "3.12.3"
  }
 },
 "nbformat": 4,
 "nbformat_minor": 5
}
