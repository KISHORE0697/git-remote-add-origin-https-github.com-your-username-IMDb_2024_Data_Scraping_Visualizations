{
 "cells": [
  {
   "cell_type": "code",
   "execution_count": 16,
   "id": "c4907956-2c6d-4efd-bb30-e81d5f3d2252",
   "metadata": {},
   "outputs": [],
   "source": [
    "import selenium\n",
    "import pandas as pd"
   ]
  },
  {
   "cell_type": "code",
   "execution_count": 17,
   "id": "c25b83a8-7baa-4e25-bd4d-ceec0d688090",
   "metadata": {},
   "outputs": [
    {
     "name": "stdout",
     "output_type": "stream",
     "text": [
      "All movies loaded.\n"
     ]
    }
   ],
   "source": [
    "from selenium import webdriver\n",
    "from selenium.webdriver.common.by import By\n",
    "from selenium.common.exceptions import NoSuchElementException\n",
    "import time\n",
    "\n",
    "driver = webdriver.Chrome()\n",
    "driver.get(\"https://www.imdb.com/search/title/?title_type=feature&release_date=2024-01-01,2024-12-31&genres=animation\")\n",
    "time.sleep(3)\n",
    "\n",
    "while True:\n",
    "    try:\n",
    "        load_more = driver.find_element(By.CLASS_NAME, \"ipc-see-more__button\")\n",
    "        driver.execute_script(\"arguments[0].click();\", load_more)  # INSPIRED FROM JAVA\n",
    "        time.sleep(3)\n",
    "    except NoSuchElementException:\n",
    "        print(\"All movies loaded.\")\n",
    "        break\n"
   ]
  },
  {
   "cell_type": "code",
   "execution_count": 23,
   "id": "7a6095d8-d11b-4adf-bae1-acea4a676653",
   "metadata": {},
   "outputs": [
    {
     "name": "stdout",
     "output_type": "stream",
     "text": [
      "Found 432 movie cards\n"
     ]
    }
   ],
   "source": [
    "movie_cards = driver.find_elements(By.CLASS_NAME, \"ipc-metadata-list-summary-item\")\n",
    "print(\"Found\", len(movie_cards), \"movie cards\")"
   ]
  },
  {
   "cell_type": "code",
   "execution_count": 31,
   "id": "1a45499a-d361-4ab8-9b90-1d074911020b",
   "metadata": {},
   "outputs": [],
   "source": [
    "movies = []\n",
    "\n",
    "for card in movie_cards:\n",
    "    try:\n",
    "        title = card.find_element(By.TAG_NAME, \"h3\").text\n",
    "    except:\n",
    "        title = \"N/A\"\n",
    "\n",
    "    try:\n",
    "        genre = card.find_elements(By.CLASS_NAME,\"ipc-chip__text\")\n",
    "        genre = [g.text for g in genre_tags]\n",
    "       \n",
    "    except:\n",
    "        genre = \"N/A\"\n",
    "\n",
    "    try:\n",
    "        rating = card.find_element(By.CLASS_NAME, \"ipc-rating-star--rating\").text\n",
    "    except:\n",
    "        rating = \"N/A\"\n",
    "\n",
    "    try:  # syntax changed from prevous action genre to define the missing details.\n",
    "        metadata_items = card.find_elements(By.CLASS_NAME, \"dli-title-metadata-item\")\n",
    "        duration = next((m.text for m in metadata_items if 'h' in m.text or 'min' in m.text), \"N/A\")  #sort through m variable\n",
    "    except:\n",
    "        duration = \"N/A\"\n",
    "\n",
    "    try:\n",
    "        votes = card.find_element(By.CLASS_NAME, \"ipc-rating-star--voteCount\").text\n",
    "    except:\n",
    "        votes = \"N/A\"\n",
    "\n",
    "    movies.append({\n",
    "        \"Title\": title,\n",
    "        \"Genre\": genre,\n",
    "        \"Rating\": rating,\n",
    "        \"Duration\": duration,\n",
    "        \"Votes\": votes\n",
    "    })"
   ]
  },
  {
   "cell_type": "code",
   "execution_count": 34,
   "id": "d21c34f3-37b1-4229-9587-da9be1dd9a35",
   "metadata": {},
   "outputs": [
    {
     "data": {
      "text/html": [
       "<div>\n",
       "<style scoped>\n",
       "    .dataframe tbody tr th:only-of-type {\n",
       "        vertical-align: middle;\n",
       "    }\n",
       "\n",
       "    .dataframe tbody tr th {\n",
       "        vertical-align: top;\n",
       "    }\n",
       "\n",
       "    .dataframe thead th {\n",
       "        text-align: right;\n",
       "    }\n",
       "</style>\n",
       "<table border=\"1\" class=\"dataframe\">\n",
       "  <thead>\n",
       "    <tr style=\"text-align: right;\">\n",
       "      <th></th>\n",
       "      <th>Title</th>\n",
       "      <th>Genre</th>\n",
       "      <th>Rating</th>\n",
       "      <th>Duration</th>\n",
       "      <th>Votes</th>\n",
       "    </tr>\n",
       "  </thead>\n",
       "  <tbody>\n",
       "    <tr>\n",
       "      <th>0</th>\n",
       "      <td>1. The Wild Robot</td>\n",
       "      <td>N/A</td>\n",
       "      <td>8.2</td>\n",
       "      <td>1h 42m</td>\n",
       "      <td>(185K)</td>\n",
       "    </tr>\n",
       "    <tr>\n",
       "      <th>1</th>\n",
       "      <td>2. Mufasa: The Lion King</td>\n",
       "      <td>N/A</td>\n",
       "      <td>6.6</td>\n",
       "      <td>1h 58m</td>\n",
       "      <td>(72K)</td>\n",
       "    </tr>\n",
       "    <tr>\n",
       "      <th>2</th>\n",
       "      <td>3. Flow</td>\n",
       "      <td>N/A</td>\n",
       "      <td>7.9</td>\n",
       "      <td>1h 25m</td>\n",
       "      <td>(86K)</td>\n",
       "    </tr>\n",
       "    <tr>\n",
       "      <th>3</th>\n",
       "      <td>4. Moana 2</td>\n",
       "      <td>N/A</td>\n",
       "      <td>6.5</td>\n",
       "      <td>1h 40m</td>\n",
       "      <td>(110K)</td>\n",
       "    </tr>\n",
       "    <tr>\n",
       "      <th>4</th>\n",
       "      <td>5. The Day the Earth Blew Up: A Looney Tunes M...</td>\n",
       "      <td>N/A</td>\n",
       "      <td>6.9</td>\n",
       "      <td>1h 31m</td>\n",
       "      <td>(6.1K)</td>\n",
       "    </tr>\n",
       "  </tbody>\n",
       "</table>\n",
       "</div>"
      ],
      "text/plain": [
       "                                               Title Genre Rating Duration  \\\n",
       "0                                  1. The Wild Robot   N/A    8.2   1h 42m   \n",
       "1                           2. Mufasa: The Lion King   N/A    6.6   1h 58m   \n",
       "2                                            3. Flow   N/A    7.9   1h 25m   \n",
       "3                                         4. Moana 2   N/A    6.5   1h 40m   \n",
       "4  5. The Day the Earth Blew Up: A Looney Tunes M...   N/A    6.9   1h 31m   \n",
       "\n",
       "     Votes  \n",
       "0   (185K)  \n",
       "1    (72K)  \n",
       "2    (86K)  \n",
       "3   (110K)  \n",
       "4   (6.1K)  "
      ]
     },
     "execution_count": 34,
     "metadata": {},
     "output_type": "execute_result"
    }
   ],
   "source": [
    "import pandas as pd\n",
    "df = pd.DataFrame(movies)\n",
    "df.head()"
   ]
  },
  {
   "cell_type": "code",
   "execution_count": 36,
   "id": "c9600cdc-6dd6-4f7f-999d-1b01ea38a1ec",
   "metadata": {},
   "outputs": [
    {
     "name": "stdout",
     "output_type": "stream",
     "text": [
      "CSV file saved successfully.\n"
     ]
    }
   ],
   "source": [
    "import pandas as pd\n",
    "\n",
    "df_animation = pd.DataFrame(movies)\n",
    "df_animation.to_csv(\"IMDb_Animation_2024.csv\",index=0) # if needed removed index to get number of movies in seperate column\n",
    "print(\"CSV file saved successfully.\")"
   ]
  },
  {
   "cell_type": "code",
   "execution_count": null,
   "id": "1eb021b9-d777-4ae4-8c25-bb7e267eae0e",
   "metadata": {},
   "outputs": [],
   "source": []
  }
 ],
 "metadata": {
  "kernelspec": {
   "display_name": "Python 3 (ipykernel)",
   "language": "python",
   "name": "python3"
  },
  "language_info": {
   "codemirror_mode": {
    "name": "ipython",
    "version": 3
   },
   "file_extension": ".py",
   "mimetype": "text/x-python",
   "name": "python",
   "nbconvert_exporter": "python",
   "pygments_lexer": "ipython3",
   "version": "3.12.3"
  }
 },
 "nbformat": 4,
 "nbformat_minor": 5
}
