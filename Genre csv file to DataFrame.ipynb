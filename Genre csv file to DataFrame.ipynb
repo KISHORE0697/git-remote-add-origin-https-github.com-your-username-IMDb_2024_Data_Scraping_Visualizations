{
 "cells": [
  {
   "cell_type": "code",
   "execution_count": 19,
   "id": "7360f2f0-d977-416a-a383-5477ea23fa6c",
   "metadata": {},
   "outputs": [],
   "source": [
    "import pandas as pd  # CREATING DATA FROM FROM CSV FILE TO DATAFRAME ##\n",
    "df_action = pd.read_csv(\"IMDb_Action_2024.csv\")\n",
    "df_animation = pd.read_csv(\"IMDb_Animation_2024.csv\")\n",
    "df_biography = pd.read_csv(\"IMDb_Biography_2024.csv\")\n",
    "df_family = pd.read_csv(\"IMDb_Family_2024.csv\")\n",
    "df_war = pd.read_csv(\"IMDb_War_2024.csv\")\n",
    "\n",
    "df_action[\"GenreMain\"] = \"Action\"\n",
    "df_animation[\"GenreMain\"] = \"Animation\"\n",
    "df_biography[\"GenreMain\"] = \"Biography\"\n",
    "df_family[\"GenreMain\"] = \"Family\"\n",
    "df_war[\"GenreMain\"] = \"War\"\n",
    "\n",
    "df_full = pd.concat([df_action, df_animation, df_biography, df_family, df_war], ignore_index=True)\n",
    "df_full.to_csv(\"IMDb_2024_Merged.csv\", index=False)"
   ]
  },
  {
   "cell_type": "code",
   "execution_count": 15,
   "id": "71d6d317-ef6a-4877-8ebf-f237568d04b9",
   "metadata": {},
   "outputs": [
    {
     "name": "stdout",
     "output_type": "stream",
     "text": [
      "Requirement already satisfied: mysql-connector-python in c:\\users\\user\\selenium_env\\lib\\site-packages (9.3.0)\n",
      "Note: you may need to restart the kernel to use updated packages.\n"
     ]
    },
    {
     "name": "stderr",
     "output_type": "stream",
     "text": [
      "\n",
      "[notice] A new release of pip is available: 24.0 -> 25.1.1\n",
      "[notice] To update, run: python.exe -m pip install --upgrade pip\n"
     ]
    }
   ],
   "source": [
    "pip install mysql-connector-python"
   ]
  },
  {
   "cell_type": "code",
   "execution_count": 20,
   "id": "ff9fa6b3-acb6-46b0-9a21-cca0c966300b",
   "metadata": {},
   "outputs": [],
   "source": [
    "import sqlite3\n",
    "df_full = pd.read_csv(\"IMDb_2024_Merged.csv\")\n",
    "conn = sqlite3.connect(\"IMDb_2024.db\")\n",
    "df_full.to_sql(\"movies_2024\", conn, if_exists=\"replace\", index=False)\n",
    "conn.close()"
   ]
  },
  {
   "cell_type": "code",
   "execution_count": 21,
   "id": "a168a96a-c3d0-4b23-b8c0-a58618e53c0d",
   "metadata": {},
   "outputs": [
    {
     "name": "stdout",
     "output_type": "stream",
     "text": [
      "                  Title   Genre  Rating Duration    Votes GenreMain\n",
      "0       1. Gladiator II  Action     6.5   2h 28m   (255K)    Action\n",
      "1     2. Dune: Part Two  Action     8.5   2h 46m   (645K)    Action\n",
      "2    3. Fight or Flight  Action     6.4   1h 42m    (15K)    Action\n",
      "3           4. Twisters  Action     6.5    2h 2m   (176K)    Action\n",
      "4  5. Kraven the Hunter  Action     5.5    2h 7m    (64K)    Action\n"
     ]
    }
   ],
   "source": [
    "conn = sqlite3.connect(\"IMDb_2024.db\")\n",
    "sample_df = pd.read_sql(\"SELECT * FROM movies_2024 LIMIT 5\", conn)\n",
    "print(sample_df)\n",
    "conn.close()"
   ]
  },
  {
   "cell_type": "code",
   "execution_count": null,
   "id": "dac02c93-11b0-4676-a9ab-448dab30d238",
   "metadata": {},
   "outputs": [],
   "source": []
  }
 ],
 "metadata": {
  "kernelspec": {
   "display_name": "Python 3 (ipykernel)",
   "language": "python",
   "name": "python3"
  },
  "language_info": {
   "codemirror_mode": {
    "name": "ipython",
    "version": 3
   },
   "file_extension": ".py",
   "mimetype": "text/x-python",
   "name": "python",
   "nbconvert_exporter": "python",
   "pygments_lexer": "ipython3",
   "version": "3.12.3"
  }
 },
 "nbformat": 4,
 "nbformat_minor": 5
}
