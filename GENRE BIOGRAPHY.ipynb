{
 "cells": [
  {
   "cell_type": "code",
   "execution_count": 19,
   "id": "3732614a-d060-4e40-808b-4ebbf3ad5c72",
   "metadata": {},
   "outputs": [
    {
     "name": "stdout",
     "output_type": "stream",
     "text": [
      "All movies downloaded\n"
     ]
    }
   ],
   "source": [
    "import selenium\n",
    "import pandas as pd\n",
    "from selenium import webdriver\n",
    "from selenium.webdriver.common.by import By\n",
    "from selenium.common.exceptions import NoSuchElementException\n",
    "import time \n",
    "\n",
    "driver = webdriver.Chrome()\n",
    "driver.get(\"https://www.imdb.com/search/title/?title_type=feature&release_date=2024-01-01,2024-12-31&genres=biography\")\n",
    "time.sleep(3)\n",
    "\n",
    "while True :\n",
    "    try:\n",
    "        load_more= driver.find_element(By.CLASS_NAME, \"ipc-see-more__button\")\n",
    "        driver.execute_script(\"arguments[0].click();\",load_more)\n",
    "        time.sleep(3)\n",
    "    except NoSuchElementException:\n",
    "        print (\"All movies downloaded\")\n",
    "        break\n",
    "       "
   ]
  },
  {
   "cell_type": "code",
   "execution_count": 20,
   "id": "e078a9bc-bc27-4194-8811-fe733358b39c",
   "metadata": {},
   "outputs": [
    {
     "name": "stdout",
     "output_type": "stream",
     "text": [
      "Found 484 movie cards\n"
     ]
    }
   ],
   "source": [
    "movie_cards = driver.find_elements(By.CLASS_NAME, \"ipc-metadata-list-summary-item\")\n",
    "print(\"Found\", len(movie_cards), \"movie cards\")"
   ]
  },
  {
   "cell_type": "code",
   "execution_count": 21,
   "id": "22e0431a-e8cc-4b47-ba05-584c77bd0be0",
   "metadata": {},
   "outputs": [],
   "source": [
    "movies = []\n",
    "\n",
    "for card in movie_cards:\n",
    "    try:\n",
    "        title = card.find_element(By.TAG_NAME, \"h3\").text\n",
    "    except:\n",
    "        title = \"N/A\"\n",
    "\n",
    "    try:\n",
    "        genre_tags = card.find_elements(By.CLASS_NAME,\"ipc-chip__text\")\n",
    "        genre = [g.text for g in genre_tags] if genere_tags else [\"N/A\"]\n",
    "       \n",
    "    except:\n",
    "        genre = \"N/A\"\n",
    "\n",
    "    try:\n",
    "        rating = card.find_element(By.CLASS_NAME, \"ipc-rating-star--rating\").text\n",
    "    except:\n",
    "        rating = \"N/A\"\n",
    "\n",
    "    try:\n",
    "        metadata = card.find_elements(By.CLASS_NAME, \"dli-title-metadata-item\")\n",
    "        duration = metadata[1].text if len(metadata) > 1 else \"N/A\"\n",
    "    except:\n",
    "        duration = \"N/A\"\n",
    "\n",
    "    try:\n",
    "        votes = card.find_element(By.CLASS_NAME, \"ipc-rating-star--voteCount\").text\n",
    "    except:\n",
    "        votes = \"N/A\"\n",
    "\n",
    "    movies.append({\n",
    "        \"Title\": title,\n",
    "        \"Genre\": genre,\n",
    "        \"Rating\": rating,\n",
    "        \"Duration\": duration,\n",
    "        \"Votes\": votes\n",
    "    })"
   ]
  },
  {
   "cell_type": "code",
   "execution_count": 23,
   "id": "b521018c-7069-4c7a-ba3f-9b324471ae88",
   "metadata": {},
   "outputs": [
    {
     "data": {
      "text/html": [
       "<div>\n",
       "<style scoped>\n",
       "    .dataframe tbody tr th:only-of-type {\n",
       "        vertical-align: middle;\n",
       "    }\n",
       "\n",
       "    .dataframe tbody tr th {\n",
       "        vertical-align: top;\n",
       "    }\n",
       "\n",
       "    .dataframe thead th {\n",
       "        text-align: right;\n",
       "    }\n",
       "</style>\n",
       "<table border=\"1\" class=\"dataframe\">\n",
       "  <thead>\n",
       "    <tr style=\"text-align: right;\">\n",
       "      <th></th>\n",
       "      <th>Title</th>\n",
       "      <th>Genre</th>\n",
       "      <th>Rating</th>\n",
       "      <th>Duration</th>\n",
       "      <th>Votes</th>\n",
       "    </tr>\n",
       "  </thead>\n",
       "  <tbody>\n",
       "    <tr>\n",
       "      <th>0</th>\n",
       "      <td>1. A Complete Unknown</td>\n",
       "      <td>N/A</td>\n",
       "      <td>7.3</td>\n",
       "      <td>2h 21m</td>\n",
       "      <td>(94K)</td>\n",
       "    </tr>\n",
       "    <tr>\n",
       "      <th>1</th>\n",
       "      <td>2. I'm Still Here</td>\n",
       "      <td>N/A</td>\n",
       "      <td>8.2</td>\n",
       "      <td>2h 17m</td>\n",
       "      <td>(114K)</td>\n",
       "    </tr>\n",
       "    <tr>\n",
       "      <th>2</th>\n",
       "      <td>3. The Apprentice</td>\n",
       "      <td>N/A</td>\n",
       "      <td>7.1</td>\n",
       "      <td>2h 2m</td>\n",
       "      <td>(61K)</td>\n",
       "    </tr>\n",
       "    <tr>\n",
       "      <th>3</th>\n",
       "      <td>4. Saturday Night</td>\n",
       "      <td>N/A</td>\n",
       "      <td>6.9</td>\n",
       "      <td>1h 49m</td>\n",
       "      <td>(33K)</td>\n",
       "    </tr>\n",
       "    <tr>\n",
       "      <th>4</th>\n",
       "      <td>5. Better Man</td>\n",
       "      <td>N/A</td>\n",
       "      <td>7.6</td>\n",
       "      <td>2h 15m</td>\n",
       "      <td>(33K)</td>\n",
       "    </tr>\n",
       "  </tbody>\n",
       "</table>\n",
       "</div>"
      ],
      "text/plain": [
       "                   Title Genre Rating Duration    Votes\n",
       "0  1. A Complete Unknown   N/A    7.3   2h 21m    (94K)\n",
       "1      2. I'm Still Here   N/A    8.2   2h 17m   (114K)\n",
       "2      3. The Apprentice   N/A    7.1    2h 2m    (61K)\n",
       "3      4. Saturday Night   N/A    6.9   1h 49m    (33K)\n",
       "4          5. Better Man   N/A    7.6   2h 15m    (33K)"
      ]
     },
     "execution_count": 23,
     "metadata": {},
     "output_type": "execute_result"
    }
   ],
   "source": [
    "import pandas as pd\n",
    "df = pd.DataFrame(movies)\n",
    "df.head()"
   ]
  },
  {
   "cell_type": "code",
   "execution_count": 25,
   "id": "e5aeafcf-594a-452a-b5fc-a57bebc1fcbd",
   "metadata": {},
   "outputs": [
    {
     "name": "stdout",
     "output_type": "stream",
     "text": [
      "CSV file saved successfully\n"
     ]
    }
   ],
   "source": [
    "import pandas as pd\n",
    "df_Biography = pd.DataFrame(movies)\n",
    "df_Biography.to_csv(\"IMDb_Biography_2024.csv\",index=0)\n",
    "print (\"CSV file saved successfully)"
   ]
  },
  {
   "cell_type": "code",
   "execution_count": null,
   "id": "1852fe62-7b6c-416e-9517-a0545e1c5aef",
   "metadata": {},
   "outputs": [],
   "source": []
  }
 ],
 "metadata": {
  "kernelspec": {
   "display_name": "Python 3 (ipykernel)",
   "language": "python",
   "name": "python3"
  },
  "language_info": {
   "codemirror_mode": {
    "name": "ipython",
    "version": 3
   },
   "file_extension": ".py",
   "mimetype": "text/x-python",
   "name": "python",
   "nbconvert_exporter": "python",
   "pygments_lexer": "ipython3",
   "version": "3.12.3"
  }
 },
 "nbformat": 4,
 "nbformat_minor": 5
}
