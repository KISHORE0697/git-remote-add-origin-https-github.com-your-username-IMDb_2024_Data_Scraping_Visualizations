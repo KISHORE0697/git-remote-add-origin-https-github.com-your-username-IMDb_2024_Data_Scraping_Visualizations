{
 "cells": [
  {
   "cell_type": "code",
   "execution_count": 2,
   "id": "a15e6305-4357-4bfa-b40d-8277c456db8a",
   "metadata": {},
   "outputs": [],
   "source": [
    "import pandas\n",
    "import selenium\n",
    "from selenium import webdriver\n",
    "from selenium.webdriver.common.by import By\n",
    "from selenium.common.exceptions import NoSuchElementException\n",
    "import time"
   ]
  },
  {
   "cell_type": "code",
   "execution_count": 5,
   "id": "e1ebbcc8-048a-4af7-8cd5-18d8a3e09e9e",
   "metadata": {},
   "outputs": [
    {
     "name": "stdout",
     "output_type": "stream",
     "text": [
      "All movies downloaded\n"
     ]
    }
   ],
   "source": [
    "driver= webdriver.Chrome()\n",
    "driver.get(\"https://www.imdb.com/search/title/?title_type=feature&release_date=2024-01-01,2024-12-31&genres=family\")\n",
    "time.sleep(3)\n",
    "\n",
    "while True:\n",
    "    try:\n",
    "        load_more = driver.find_element(By. CLASS_NAME, \"ipc-see-more__button\")\n",
    "        driver.execute_script(\"arguments[0].click();\", load_more)\n",
    "        time.sleep(3)\n",
    "    except NoSuchElementException:\n",
    "        print (\"All movies downloaded\")\n",
    "        break\n"
   ]
  },
  {
   "cell_type": "code",
   "execution_count": 6,
   "id": "4aa3d65a-f955-447d-9496-0a5cd4d5cda0",
   "metadata": {},
   "outputs": [
    {
     "name": "stdout",
     "output_type": "stream",
     "text": [
      "Found 576 movie cards\n"
     ]
    }
   ],
   "source": [
    "movie_cards = driver.find_elements(By.CLASS_NAME, \"ipc-metadata-list-summary-item\")\n",
    "print(\"Found\", len(movie_cards), \"movie cards\")"
   ]
  },
  {
   "cell_type": "code",
   "execution_count": 19,
   "id": "6f4c9d50-ef18-4ba5-a7b7-e9d8467b0a3d",
   "metadata": {},
   "outputs": [],
   "source": [
    "movies = []\n",
    "\n",
    "for card in movie_cards:\n",
    "    try:\n",
    "        title = card.find_element(By.TAG_NAME, \"h3\").text\n",
    "    except:\n",
    "        title = \"N/A\"\n",
    "\n",
    "    try:\n",
    "        genre_tags = card.find_elements(By.CLASS_NAME,\"ipc-chip__text\")\n",
    "        genre = [g.text for g in genre_tags] if genere_tags else [\"N/A\"]\n",
    "       \n",
    "    except:\n",
    "        genre = \"N/A\"\n",
    "\n",
    "    try:\n",
    "        rating = card.find_element(By.CLASS_NAME, \"ipc-rating-star--rating\").text\n",
    "    except:\n",
    "        rating = \"N/A\"\n",
    "\n",
    "    try:\n",
    "        metadata = card.find_elements(By.CLASS_NAME, \"dli-title-metadata-item\")\n",
    "        duration = metadata[1].text if len(metadata) > 1 else \"N/A\"\n",
    "    except:\n",
    "        duration = \"N/A\"\n",
    "\n",
    "    try:\n",
    "        votes = card.find_element(By.CLASS_NAME, \"ipc-rating-star--voteCount\").text\n",
    "    except:\n",
    "        votes = \"N/A\"\n",
    "\n",
    "    movies.append({\n",
    "        \"Title\": title,\n",
    "        \"Genre\": genre,\n",
    "        \"Rating\": rating,\n",
    "        \"Duration\": duration,\n",
    "        \"Votes\": votes\n",
    "    })"
   ]
  },
  {
   "cell_type": "code",
   "execution_count": 20,
   "id": "50aedcc9-ff6c-47e6-b242-3d00bc9ef2df",
   "metadata": {},
   "outputs": [
    {
     "data": {
      "text/html": [
       "<div>\n",
       "<style scoped>\n",
       "    .dataframe tbody tr th:only-of-type {\n",
       "        vertical-align: middle;\n",
       "    }\n",
       "\n",
       "    .dataframe tbody tr th {\n",
       "        vertical-align: top;\n",
       "    }\n",
       "\n",
       "    .dataframe thead th {\n",
       "        text-align: right;\n",
       "    }\n",
       "</style>\n",
       "<table border=\"1\" class=\"dataframe\">\n",
       "  <thead>\n",
       "    <tr style=\"text-align: right;\">\n",
       "      <th></th>\n",
       "      <th>Title</th>\n",
       "      <th>Genre</th>\n",
       "      <th>Rating</th>\n",
       "      <th>Duration</th>\n",
       "      <th>Votes</th>\n",
       "    </tr>\n",
       "  </thead>\n",
       "  <tbody>\n",
       "    <tr>\n",
       "      <th>0</th>\n",
       "      <td>1. The Wild Robot</td>\n",
       "      <td>N/A</td>\n",
       "      <td>8.2</td>\n",
       "      <td>1h 42m</td>\n",
       "      <td>(185K)</td>\n",
       "    </tr>\n",
       "    <tr>\n",
       "      <th>1</th>\n",
       "      <td>2. Sonic the Hedgehog 3</td>\n",
       "      <td>N/A</td>\n",
       "      <td>6.9</td>\n",
       "      <td>1h 50m</td>\n",
       "      <td>(66K)</td>\n",
       "    </tr>\n",
       "    <tr>\n",
       "      <th>2</th>\n",
       "      <td>3. Mufasa: The Lion King</td>\n",
       "      <td>N/A</td>\n",
       "      <td>6.6</td>\n",
       "      <td>1h 58m</td>\n",
       "      <td>(72K)</td>\n",
       "    </tr>\n",
       "    <tr>\n",
       "      <th>3</th>\n",
       "      <td>4. Flow</td>\n",
       "      <td>N/A</td>\n",
       "      <td>7.9</td>\n",
       "      <td>1h 25m</td>\n",
       "      <td>(86K)</td>\n",
       "    </tr>\n",
       "    <tr>\n",
       "      <th>4</th>\n",
       "      <td>5. Moana 2</td>\n",
       "      <td>N/A</td>\n",
       "      <td>6.5</td>\n",
       "      <td>1h 40m</td>\n",
       "      <td>(110K)</td>\n",
       "    </tr>\n",
       "  </tbody>\n",
       "</table>\n",
       "</div>"
      ],
      "text/plain": [
       "                      Title Genre Rating Duration    Votes\n",
       "0         1. The Wild Robot   N/A    8.2   1h 42m   (185K)\n",
       "1   2. Sonic the Hedgehog 3   N/A    6.9   1h 50m    (66K)\n",
       "2  3. Mufasa: The Lion King   N/A    6.6   1h 58m    (72K)\n",
       "3                   4. Flow   N/A    7.9   1h 25m    (86K)\n",
       "4                5. Moana 2   N/A    6.5   1h 40m   (110K)"
      ]
     },
     "execution_count": 20,
     "metadata": {},
     "output_type": "execute_result"
    }
   ],
   "source": [
    "import pandas as pd\n",
    "df = pd.DataFrame(movies)\n",
    "df.head()"
   ]
  },
  {
   "cell_type": "code",
   "execution_count": 22,
   "id": "a12cca68-6db1-4a4c-83c7-31f4b4f4fc5a",
   "metadata": {},
   "outputs": [
    {
     "name": "stdout",
     "output_type": "stream",
     "text": [
      "CSV file saved successfully.\n"
     ]
    }
   ],
   "source": [
    "df.family= pd.DataFrame(movies)\n",
    "df.family.to_csv(\"IMDb_Family_2024.csv\",index=0)\n",
    "print(\"CSV file saved successfully.\")"
   ]
  },
  {
   "cell_type": "code",
   "execution_count": null,
   "id": "a4b3302c-0e11-43e7-b672-b22ae3d6f180",
   "metadata": {},
   "outputs": [],
   "source": []
  }
 ],
 "metadata": {
  "kernelspec": {
   "display_name": "Python 3 (ipykernel)",
   "language": "python",
   "name": "python3"
  },
  "language_info": {
   "codemirror_mode": {
    "name": "ipython",
    "version": 3
   },
   "file_extension": ".py",
   "mimetype": "text/x-python",
   "name": "python",
   "nbconvert_exporter": "python",
   "pygments_lexer": "ipython3",
   "version": "3.12.3"
  }
 },
 "nbformat": 4,
 "nbformat_minor": 5
}
