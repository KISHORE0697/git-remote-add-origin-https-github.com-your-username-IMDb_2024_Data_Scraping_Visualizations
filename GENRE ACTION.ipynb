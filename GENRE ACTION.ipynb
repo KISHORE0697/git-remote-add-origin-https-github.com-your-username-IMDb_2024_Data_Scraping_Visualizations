{
 "cells": [
  {
   "cell_type": "code",
   "execution_count": 1,
   "id": "3f11339d-5a7d-48bb-a6db-a2f87ce3717c",
   "metadata": {},
   "outputs": [
    {
     "name": "stdout",
     "output_type": "stream",
     "text": [
      "Selenium and Pandas are working!\n"
     ]
    }
   ],
   "source": [
    "import selenium\n",
    "import pandas as pd\n",
    "print(\"Selenium and Pandas are working!\")"
   ]
  },
  {
   "cell_type": "code",
   "execution_count": 10,
   "id": "f5be1500-bada-44de-869a-5edd68119a7d",
   "metadata": {},
   "outputs": [
    {
     "name": "stdout",
     "output_type": "stream",
     "text": [
      "All movies loaded.\n"
     ]
    }
   ],
   "source": [
    "from selenium import webdriver\n",
    "from selenium.webdriver.common.by import By\n",
    "from selenium.common.exceptions import NoSuchElementException\n",
    "import time\n",
    "\n",
    "driver = webdriver.Chrome()\n",
    "driver.get(\"https://www.imdb.com/search/title/?title_type=feature&release_date=2024-01-01,2024-12-31&genres=action\")\n",
    "time.sleep(3)\n",
    "\n",
    "while True:\n",
    "    try:\n",
    "        load_more = driver.find_element(By.CLASS_NAME, \"ipc-see-more__button\")\n",
    "        driver.execute_script(\"arguments[0].click();\", load_more)\n",
    "        time.sleep(3)\n",
    "    except NoSuchElementException:\n",
    "        print(\"All movies loaded.\")\n",
    "        break"
   ]
  },
  {
   "cell_type": "code",
   "execution_count": 11,
   "id": "bb965ea9-0528-4b77-bcd8-158792d173c6",
   "metadata": {},
   "outputs": [
    {
     "name": "stdout",
     "output_type": "stream",
     "text": [
      "Found 1389 movie cards\n"
     ]
    }
   ],
   "source": [
    "\n",
    "movie_cards = driver.find_elements(By.CLASS_NAME, \"ipc-metadata-list-summary-item\")\n",
    "print(\"Found\", len(movie_cards), \"movie cards\")\n"
   ]
  },
  {
   "cell_type": "code",
   "execution_count": 45,
   "id": "57965a85-4b85-4bd2-9807-cd6d7e6fadbb",
   "metadata": {},
   "outputs": [
    {
     "name": "stdout",
     "output_type": "stream",
     "text": [
      "<div class=\"ipc-metadata-list-summary-item__c\"><div class=\"ipc-metadata-list-summary-item__tc\"><span class=\"ipc-metadata-list-summary-item__t ipc-btn--not-interactable\" aria-disabled=\"false\"></span><div class=\"sc-995e3276-1 jziSZL dli-parent\"><div class=\"sc-995e3276-0 eXDZXb\"><div class=\"sc-109b6a27-0 jihHMr dli-poster-container\"><div class=\"ipc-poster ipc-poster--base ipc-poster--media-radius ipc-poster--wl-true ipc-poster--dynamic-width ipc-sub-grid-item ipc-sub-grid-item--span-2\" role=\"group\"><div class=\"ipc-media ipc-media--poster-27x40 ipc-image-media-ratio--poster-27x40 ipc-media--media-radius ipc-media--base ipc-media--poster-s ipc-poster__poster-image ipc-media--fallback\" style=\"width: 100%;\"><svg xmlns=\"http://www.w3.org/2000/svg\" width=\"24\" height=\"24\" class=\"ipc-icon ipc-icon--movie ipc-icon--inline ipc-media__icon\" viewBox=\"0 0 24 24\" fill=\"currentColor\" role=\"presentation\"><path fill=\"none\" d=\"M0 0h24v24H0V0z\"></path><path d=\"M18 4v1h-2V4c0-.55-.45-1-1-1H9c-.55 0-1 .45-1 1v1H6V4c0-.55-.45-1-1-1s-1 .45-1 1v16c0 .55.45 1 1 1s1-.45 1-1v-1h2v1c0 .55.45 1 1 1h6c.55 0 1-.45 1-1v-1h2v1c0 .55.45 1 1 1s1-.45 1-1V4c0-.55-.45-1-1-1s-1 .45-1 1zM8 17H6v-2h2v2zm0-4H6v-2h2v2zm0-4H6V7h2v2zm10 8h-2v-2h2v2zm0-4h-2v-2h2v2zm0-4h-2V7h2v2z\"></path></svg></div><div data-testid=\"poster-watchlist-ribbon-add\" class=\"ipc-watchlist-ribbon ipc-focusable ipc-watchlist-ribbon--m ipc-watchlist-ribbon--base ipc-watchlist-ribbon--onImage ipc-poster__watchlist-ribbon\" aria-label=\"Add to Watchlist\" role=\"button\" tabindex=\"0\"><svg class=\"ipc-watchlist-ribbon__bg\" width=\"24px\" height=\"34px\" viewBox=\"0 0 24 34\" xmlns=\"http://www.w3.org/2000/svg\" role=\"presentation\"><polygon class=\"ipc-watchlist-ribbon__bg-ribbon\" fill=\"#000000\" points=\"24 0 0 0 0 32 12.2436611 26.2926049 24 31.7728343\"></polygon><polygon class=\"ipc-watchlist-ribbon__bg-hover\" points=\"24 0 0 0 0 32 12.2436611 26.2926049 24 31.7728343\"></polygon><polygon class=\"ipc-watchlist-ribbon__bg-shadow\" points=\"24 31.7728343 24 33.7728343 12.2436611 28.2926049 0 34 0 32 12.2436611 26.2926049\"></polygon></svg><div class=\"ipc-watchlist-ribbon__icon\" role=\"presentation\"><svg xmlns=\"http://www.w3.org/2000/svg\" width=\"24\" height=\"24\" class=\"ipc-icon ipc-icon--add ipc-icon--inline\" viewBox=\"0 0 24 24\" fill=\"currentColor\" role=\"presentation\"><path d=\"M18 13h-5v5c0 .55-.45 1-1 1s-1-.45-1-1v-5H6c-.55 0-1-.45-1-1s.45-1 1-1h5V6c0-.55.45-1 1-1s1 .45 1 1v5h5c.55 0 1 .45 1 1s-.45 1-1 1z\"></path></svg></div></div><a class=\"ipc-lockup-overlay ipc-focusable\" href=\"/title/tt37517189/?ref_=sr_i_1389\" aria-label=\"View title page for The Story of A Captor\"><div class=\"ipc-lockup-overlay__screen\"></div></a></div></div><div class=\"sc-86fea7d1-0 kFfAkw\"><div class=\"ipc-title ipc-title--base ipc-title--title ipc-title--title--reduced ipc-title-link-no-icon ipc-title--on-textPrimary sc-d145e74b-2 kJNxDo dli-title with-margin\"><a href=\"/title/tt37517189/?ref_=sr_t_1389\" class=\"ipc-title-link-wrapper\" tabindex=\"0\"><h3 class=\"ipc-title__text ipc-title__text--reduced\">1389. The Story of A Captor</h3></a></div><div class=\"sc-86fea7d1-7 iqovgP dli-title-metadata\"><span class=\"sc-86fea7d1-8 JTbpG dli-title-metadata-item\">2024</span></div><span class=\"sc-86fea7d1-2 fzlQhx\"><div class=\"sc-98721807-0 kVYFTC sc-86fea7d1-3 hRRFTd dli-ratings-container\" data-testid=\"ratingGroup--container\"><button aria-label=\"Rate The Story of A Captor\" class=\"ipc-rate-button sc-98721807-1 ipNYdR ratingGroup--user-rating standalone-star ipc-rate-button--unrated ipc-rate-button--base\" data-testid=\"rate-button\"><span class=\"ipc-rating-star ipc-rating-star--base ipc-rating-star--rate\"><svg xmlns=\"http://www.w3.org/2000/svg\" width=\"24\" height=\"24\" class=\"ipc-icon ipc-icon--star-border-inline\" viewBox=\"0 0 24 24\" fill=\"currentColor\" role=\"presentation\"><path d=\"M22.724 8.217l-6.786-.587-2.65-6.22c-.477-1.133-2.103-1.133-2.58 0l-2.65 6.234-6.772.573c-1.234.098-1.739 1.636-.8 2.446l5.146 4.446-1.542 6.598c-.28 1.202 1.023 2.153 2.09 1.51l5.818-3.495 5.819 3.509c1.065.643 2.37-.308 2.089-1.51l-1.542-6.612 5.145-4.446c.94-.81.45-2.348-.785-2.446zm-10.726 8.89l-5.272 3.174 1.402-5.983-4.655-4.026 6.141-.531 2.384-5.634 2.398 5.648 6.14.531-4.654 4.026 1.402 5.983-5.286-3.187z\"></path></svg><span class=\"ipc-rating-star--rate\">Rate</span></span></button></div><button aria-pressed=\"false\" data-testid=\"inline-watched-button-tt37517189\" class=\"ipc-btn ipc-btn--half-padding ipc-btn--left-align-content ipc-btn--default-height ipc-btn--core-base ipc-btn--theme-base ipc-btn--button-radius ipc-btn--on-accent2 ipc-text-button sc-78408e02-0 hvemdX sc-86fea7d1-4 lYCxo\" tabindex=\"0\" aria-label=\"Mark The Story of A Captor as watched\" aria-disabled=\"false\"><svg xmlns=\"http://www.w3.org/2000/svg\" width=\"24\" height=\"24\" class=\"ipc-icon ipc-icon--visibility ipc-btn__icon ipc-btn__icon--pre watched-button--icon ipc-btn__icon--disable-margin\" viewBox=\"0 0 24 24\" fill=\"currentColor\" role=\"presentation\"><path d=\"M0 0h24v24H0V0z\" fill=\"none\"></path><path d=\"M12 6c3.79 0 7.17 2.13 8.82 5.5C19.17 14.87 15.79 17 12 17s-7.17-2.13-8.82-5.5C4.83 8.13 8.21 6 12 6m0-2C7 4 2.73 7.11 1 11.5 2.73 15.89 7 19 12 19s9.27-3.11 11-7.5C21.27 7.11 17 4 12 4zm0 5c1.38 0 2.5 1.12 2.5 2.5S13.38 14 12 14s-2.5-1.12-2.5-2.5S10.62 9 12 9m0-2c-2.48 0-4.5 2.02-4.5 4.5S9.52 16 12 16s4.5-2.02 4.5-4.5S14.48 7 12 7z\"></path></svg><span class=\"ipc-btn__text\">Mark as watched</span></button></span></div><div class=\"sc-995e3276-2 dyBZFF dli-post-element\"><button class=\"ipc-icon-button li-info-icon ipc-icon-button--base ipc-icon-button--onAccent2\" title=\"See more information about The Story of A Captor\" tabindex=\"0\" aria-label=\"See more information about The Story of A Captor\" aria-disabled=\"false\"><svg xmlns=\"http://www.w3.org/2000/svg\" width=\"24\" height=\"24\" class=\"ipc-icon ipc-icon--info\" viewBox=\"0 0 24 24\" fill=\"currentColor\" role=\"presentation\"><path fill=\"none\" d=\"M0 0h24v24H0V0z\"></path><path d=\"M11 7h2v2h-2zm0 4h2v6h-2zm1-9C6.48 2 2 6.48 2 12s4.48 10 10 10 10-4.48 10-10S17.52 2 12 2zm0 18c-4.41 0-8-3.59-8-8s3.59-8 8-8 8 3.59 8 8-3.59 8-8 8z\"></path></svg></button></div></div><div class=\"sc-aa54484-1 kKeVOw\"></div></div></div></div>\n"
     ]
    },
    {
     "ename": "SyntaxError",
     "evalue": "'break' outside loop (390592985.py, line 40)",
     "output_type": "error",
     "traceback": [
      "  \u001b[36mCell\u001b[39m\u001b[36m \u001b[39m\u001b[32mIn[45]\u001b[39m\u001b[32m, line 40\u001b[39m\n\u001b[31m    \u001b[39m\u001b[31mbreak\u001b[39m\n    ^\n\u001b[31mSyntaxError\u001b[39m\u001b[31m:\u001b[39m 'break' outside loop\n"
     ]
    }
   ],
   "source": [
    "movies = []\n",
    "\n",
    "for card in movie_cards:\n",
    "    try:\n",
    "        title = card.find_element(By.TAG_NAME, \"h3\").text\n",
    "    except:\n",
    "        title = \"N/A\"\n",
    "\n",
    "    try:\n",
    "        genre = card.find_elements(By.CLASS_NAME,\"ipc-chip__text\")\n",
    "        genre = [g.text for g in genre_tags]\n",
    "       \n",
    "    except:\n",
    "        genre = \"N/A\"\n",
    "\n",
    "    try:\n",
    "        rating = card.find_element(By.CLASS_NAME, \"ipc-rating-star--rating\").text\n",
    "    except:\n",
    "        rating = \"N/A\"\n",
    "\n",
    "    try:\n",
    "        metadata = card.find_elements(By.CLASS_NAME, \"dli-title-metadata-item\")\n",
    "        duration = metadata[1].text if len(metadata) > 1 else \"N/A\"\n",
    "    except:\n",
    "        duration = \"N/A\"\n",
    "\n",
    "    try:\n",
    "        votes = card.find_element(By.CLASS_NAME, \"ipc-rating-star--voteCount\").text\n",
    "    except:\n",
    "        votes = \"N/A\"\n",
    "\n",
    "    movies.append({\n",
    "        \"Title\": title,\n",
    "        \"Genre\": genre,\n",
    "        \"Rating\": rating,\n",
    "        \"Duration\": duration,\n",
    "        \"Votes\": votes\n",
    "    })\n",
    "print(card.get_attribute('innerHTML'))\n",
    "break"
   ]
  },
  {
   "cell_type": "code",
   "execution_count": 46,
   "id": "b74f0788-2328-4f0b-b138-869007e360bc",
   "metadata": {},
   "outputs": [
    {
     "data": {
      "text/html": [
       "<div>\n",
       "<style scoped>\n",
       "    .dataframe tbody tr th:only-of-type {\n",
       "        vertical-align: middle;\n",
       "    }\n",
       "\n",
       "    .dataframe tbody tr th {\n",
       "        vertical-align: top;\n",
       "    }\n",
       "\n",
       "    .dataframe thead th {\n",
       "        text-align: right;\n",
       "    }\n",
       "</style>\n",
       "<table border=\"1\" class=\"dataframe\">\n",
       "  <thead>\n",
       "    <tr style=\"text-align: right;\">\n",
       "      <th></th>\n",
       "      <th>Title</th>\n",
       "      <th>Genre</th>\n",
       "      <th>Rating</th>\n",
       "      <th>Duration</th>\n",
       "      <th>Votes</th>\n",
       "    </tr>\n",
       "  </thead>\n",
       "  <tbody>\n",
       "    <tr>\n",
       "      <th>0</th>\n",
       "      <td>1. Gladiator II</td>\n",
       "      <td>N/A</td>\n",
       "      <td>6.5</td>\n",
       "      <td>2h 28m</td>\n",
       "      <td>(255K)</td>\n",
       "    </tr>\n",
       "    <tr>\n",
       "      <th>1</th>\n",
       "      <td>2. Dune: Part Two</td>\n",
       "      <td>N/A</td>\n",
       "      <td>8.5</td>\n",
       "      <td>2h 46m</td>\n",
       "      <td>(645K)</td>\n",
       "    </tr>\n",
       "    <tr>\n",
       "      <th>2</th>\n",
       "      <td>3. Fight or Flight</td>\n",
       "      <td>N/A</td>\n",
       "      <td>6.4</td>\n",
       "      <td>1h 42m</td>\n",
       "      <td>(15K)</td>\n",
       "    </tr>\n",
       "    <tr>\n",
       "      <th>3</th>\n",
       "      <td>4. Twisters</td>\n",
       "      <td>N/A</td>\n",
       "      <td>6.5</td>\n",
       "      <td>2h 2m</td>\n",
       "      <td>(176K)</td>\n",
       "    </tr>\n",
       "    <tr>\n",
       "      <th>4</th>\n",
       "      <td>5. Kraven the Hunter</td>\n",
       "      <td>N/A</td>\n",
       "      <td>5.5</td>\n",
       "      <td>2h 7m</td>\n",
       "      <td>(64K)</td>\n",
       "    </tr>\n",
       "  </tbody>\n",
       "</table>\n",
       "</div>"
      ],
      "text/plain": [
       "                  Title Genre Rating Duration    Votes\n",
       "0       1. Gladiator II   N/A    6.5   2h 28m   (255K)\n",
       "1     2. Dune: Part Two   N/A    8.5   2h 46m   (645K)\n",
       "2    3. Fight or Flight   N/A    6.4   1h 42m    (15K)\n",
       "3           4. Twisters   N/A    6.5    2h 2m   (176K)\n",
       "4  5. Kraven the Hunter   N/A    5.5    2h 7m    (64K)"
      ]
     },
     "execution_count": 46,
     "metadata": {},
     "output_type": "execute_result"
    }
   ],
   "source": [
    "## test case ##\n",
    "import pandas as pd\n",
    "df = pd.DataFrame(movies)\n",
    "df.head()"
   ]
  },
  {
   "cell_type": "code",
   "execution_count": null,
   "id": "ef1a59a0-1a86-4f61-9e98-33bc73e5a418",
   "metadata": {},
   "outputs": [],
   "source": [
    "#######Save Extracted Data to CSV########"
   ]
  },
  {
   "cell_type": "code",
   "execution_count": 51,
   "id": "4d8378e0-362b-4c8b-ad47-3859fd6ae469",
   "metadata": {},
   "outputs": [
    {
     "name": "stdout",
     "output_type": "stream",
     "text": [
      "CSV file saved successfully.\n"
     ]
    }
   ],
   "source": [
    "import pandas as pd\n",
    "\n",
    "df_action = pd.DataFrame(movies)\n",
    "df_action.to_csv(\"IMDb_Action_2024.csv\",index= 0)\n",
    "print(\"CSV file saved successfully.\")"
   ]
  },
  {
   "cell_type": "code",
   "execution_count": 48,
   "id": "d1ee4848-ea17-46cc-98bb-c537cd031eea",
   "metadata": {},
   "outputs": [
    {
     "data": {
      "text/plain": [
       "'C:\\\\Users\\\\user'"
      ]
     },
     "execution_count": 48,
     "metadata": {},
     "output_type": "execute_result"
    }
   ],
   "source": [
    "import os\n",
    "os.getcwd()"
   ]
  },
  {
   "cell_type": "code",
   "execution_count": null,
   "id": "dc65ce4a-8b4a-4952-ba8c-4aa24c83b0fe",
   "metadata": {},
   "outputs": [],
   "source": []
  }
 ],
 "metadata": {
  "kernelspec": {
   "display_name": "Python 3 (ipykernel)",
   "language": "python",
   "name": "python3"
  },
  "language_info": {
   "codemirror_mode": {
    "name": "ipython",
    "version": 3
   },
   "file_extension": ".py",
   "mimetype": "text/x-python",
   "name": "python",
   "nbconvert_exporter": "python",
   "pygments_lexer": "ipython3",
   "version": "3.12.3"
  }
 },
 "nbformat": 4,
 "nbformat_minor": 5
}
